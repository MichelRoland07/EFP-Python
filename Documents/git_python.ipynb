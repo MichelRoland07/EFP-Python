{
 "cells": [
  {
   "cell_type": "code",
   "execution_count": 1,
   "id": "1628e333-0e3a-49ca-b096-57bfc1140e0a",
   "metadata": {},
   "outputs": [],
   "source": [
    "import git"
   ]
  },
  {
   "cell_type": "code",
   "execution_count": 196,
   "id": "cc764b25-8e65-4138-acb4-12123c62cef1",
   "metadata": {},
   "outputs": [
    {
     "name": "stdout",
     "output_type": "stream",
     "text": [
      "Error during cloning: Cmd('git') failed due to: exit code(128)\n",
      "  cmdline: git clone -v -- https://github.com/AIMS-Enterprise-Familiarity-Program/Programming-Exercises.git /home/student24/Documents/Programming-Exercises\n",
      "  stderr: 'fatal: destination path '/home/student24/Documents/Programming-Exercises' already exists and is not an empty directory.\n",
      "'\n"
     ]
    }
   ],
   "source": [
    "\"\"\"\n",
    "This script clones a Git repository to a specified directory.\n",
    "It uses the GitPython library to handle the cloning process.\n",
    "\n",
    "Dependencies:\n",
    "- GitPython library (install using `pip install gitpython`)\n",
    "\n",
    "Author: [Michel Roland]\n",
    "\"\"\"\n",
    "\n",
    "# URL of the repository you want to clone\n",
    "repo_url = \"https://github.com/AIMS-Enterprise-Familiarity-Program/Programming-Exercises.git\"\n",
    "\n",
    "# Path where the repository will be cloned\n",
    "clone_path = \"/home/student24/Documents/Programming-Exercises\"\n",
    "\n",
    "# Cloning the repository\n",
    "try:\n",
    "    # Clone the repository to the specified path\n",
    "    git.Repo.clone_from(repo_url, clone_path)\n",
    "    print(\"Cloning successful!\")\n",
    "except Exception as e:\n",
    "    # Handle any errors that occur during the cloning process\n",
    "    print(f\"Error during cloning: {e}\")\n"
   ]
  },
  {
   "cell_type": "code",
   "execution_count": 197,
   "id": "119d0781-3491-4ae6-ae7c-d8bcb5c08830",
   "metadata": {},
   "outputs": [],
   "source": [
    "# Task 1:"
   ]
  },
  {
   "cell_type": "code",
   "execution_count": 199,
   "id": "704cf492-e0dd-4569-8ee6-faba673927d8",
   "metadata": {},
   "outputs": [
    {
     "data": {
      "text/plain": [
       "[(0, 1), (0, 4)]"
      ]
     },
     "execution_count": 199,
     "metadata": {},
     "output_type": "execute_result"
    }
   ],
   "source": [
    "\"\"\"\n",
    "This function finds all pairs of indices (i, j) in a list such that the sum of the elements\n",
    "at those indices equals a given target value.\n",
    "\n",
    "Parameters:\n",
    "- tab (list): A list of numbers to search for pairs.\n",
    "- n (int): The target sum.\n",
    "\n",
    "Returns:\n",
    "- list: A list of tuples, where each tuple contains the indices (i, j) of two numbers\n",
    "        in the list `tab` that add up to `n`.\n",
    "\"\"\"\n",
    "\n",
    "def find_indices(tab, n):\n",
    "    result = []  # List to store pairs of indices\n",
    "    for i in range(len(tab)):\n",
    "        for j in range(i + 1, len(tab)):\n",
    "            # Check if the sum of elements at indices i and j equals the target value\n",
    "            if tab[i] + tab[j] == n:\n",
    "                result.append((i, j))  # Add the pair of indices to the result list\n",
    "    return result\n",
    "# Implementation\n",
    "\n",
    "indice([1,2,3,4,2],3)"
   ]
  },
  {
   "cell_type": "code",
   "execution_count": null,
   "id": "4af3e5df-7196-4d36-a76f-e26b2c1a981d",
   "metadata": {},
   "outputs": [],
   "source": []
  },
  {
   "cell_type": "code",
   "execution_count": 21,
   "id": "0225c03d-b002-450a-8453-f6b83768f851",
   "metadata": {},
   "outputs": [],
   "source": [
    "# Task 2:"
   ]
  },
  {
   "cell_type": "code",
   "execution_count": 200,
   "id": "ce76625d-4789-42f2-a8be-4eaafb041028",
   "metadata": {},
   "outputs": [
    {
     "name": "stdout",
     "output_type": "stream",
     "text": [
      "The subarray with the higher sum is [2, 3, 4] and its sum is 9\n"
     ]
    }
   ],
   "source": [
    "\"\"\"\n",
    "This function finds the subarray with the maximum sum from the given list. \n",
    "It generates all possible subarrays (excluding the original list) and calculates their sums.\n",
    "\n",
    "Parameters:\n",
    "- tab (list): The input list of numbers.\n",
    "\n",
    "Returns:\n",
    "- tuple: A tuple containing:\n",
    "    1. The subarray with the maximum sum.\n",
    "    2. The maximum sum value.\n",
    "\"\"\"\n",
    "\n",
    "def subarrays_max_sum(tab):\n",
    "    subarrays = []  # List to store all subarrays\n",
    "    max_sum = 0  # Variable to track the maximum sum\n",
    "    max_subarray = []  # Variable to store the subarray with the maximum sum\n",
    "    n = len(tab)  # Length of the input list\n",
    "    \n",
    "    # Generate all possible subarrays\n",
    "    for i in range(n):\n",
    "        for j in range(i + 1, n + 1):  \n",
    "            subarray = tab[i:j]  # Create a subarray from index i to j-1\n",
    "            subarrays.append(subarray)  # Add the subarray to the list\n",
    "    \n",
    "    # Remove the original list from the subarrays\n",
    "    subarrays.remove(tab)\n",
    "    \n",
    "    # Find the subarray with the maximum sum\n",
    "    for k in range(len(subarrays)): \n",
    "        current_sum = sum(subarrays[k])  # Compute the sum of the current subarray\n",
    "        if current_sum > max_sum:  # Update the maximum sum and subarray if needed\n",
    "            max_sum = current_sum\n",
    "            max_subarray = subarrays[k]\n",
    "    \n",
    "    return max_subarray, max_sum\n",
    "#Implementation\n",
    "\n",
    "arr = [1, 2, 3, 4]\n",
    "random_subarrays = subarrays_max_sum(arr)\n",
    "print(f\"The subarray with the higher sum is {random_subarrays[0]} and its sum is {random_subarrays[1]}\")\n"
   ]
  },
  {
   "cell_type": "code",
   "execution_count": null,
   "id": "903914d6-2dd7-407b-bb86-1116d3134ef5",
   "metadata": {},
   "outputs": [],
   "source": []
  },
  {
   "cell_type": "code",
   "execution_count": 201,
   "id": "6e1e62e4-d1a1-43bc-a407-443e3d43cdb4",
   "metadata": {},
   "outputs": [],
   "source": [
    "# Task 3"
   ]
  },
  {
   "cell_type": "code",
   "execution_count": 202,
   "id": "61fa08eb-c0a9-4f7c-a146-0ab4abbf55a4",
   "metadata": {},
   "outputs": [
    {
     "data": {
      "text/plain": [
       "['red', 'red', 'white', 'white', 'blue']"
      ]
     },
     "execution_count": 202,
     "metadata": {},
     "output_type": "execute_result"
    }
   ],
   "source": [
    "\"\"\"\n",
    "This function sorts a list of colors (\"red\", \"white\", \"blue\") into a specific order.\n",
    "The colors are grouped in the order: \"red\", \"white\", and then \"blue\".\n",
    "\n",
    "Parameters:\n",
    "- color (list): A list of strings representing colors.\n",
    "\n",
    "Returns:\n",
    "- list: A new list with the colors sorted in the specified order.\n",
    "\"\"\"\n",
    "\n",
    "def color_range(color):\n",
    "    color_class = []  # List to store the sorted colors\n",
    "\n",
    "    # Add all elements that are \"red\"\n",
    "    for col in color:\n",
    "        if col == \"red\":\n",
    "            color_class.append(col)\n",
    "    \n",
    "    # Add all elements that are \"white\"\n",
    "    for col in color:\n",
    "        if col == \"white\":\n",
    "            color_class.append(col)\n",
    "    \n",
    "    # Add all elements that are \"blue\"\n",
    "    for col in color:\n",
    "        if col == \"blue\":\n",
    "            color_class.append(col)\n",
    "\n",
    "    return color_class\n",
    "\n",
    "# Implemetation\n",
    "color = [\"blue\", \"white\", \"red\", \"red\", \"white\"]\n",
    "color_range(color)"
   ]
  },
  {
   "cell_type": "code",
   "execution_count": null,
   "id": "044176b4-ee16-4417-9b54-28ee6a699216",
   "metadata": {},
   "outputs": [],
   "source": []
  },
  {
   "cell_type": "code",
   "execution_count": 13,
   "id": "3ecf4e78-c021-4269-8163-1e78e77e2ba8",
   "metadata": {},
   "outputs": [],
   "source": [
    "# Task 4"
   ]
  },
  {
   "cell_type": "code",
   "execution_count": 203,
   "id": "5bd60dd4-04ae-4d78-b91e-5e3fcf4c1571",
   "metadata": {},
   "outputs": [
    {
     "data": {
      "text/plain": [
       "[[1, 2, 4, 5], [1, 2, 6, 3]]"
      ]
     },
     "execution_count": 203,
     "metadata": {},
     "output_type": "execute_result"
    }
   ],
   "source": [
    "\"\"\"\n",
    "This function finds all unique quadruples (sets of four elements) in a list whose sum equals the given target.\n",
    "\n",
    "Parameters:\n",
    "- tab (list): A list of numbers.\n",
    "- target (int): The target sum.\n",
    "\n",
    "Returns:\n",
    "- list: A list of lists, each containing four elements from the input list `tab` whose sum equals the target.\n",
    "\"\"\"\n",
    "\n",
    "def find_quadruples(tab, target):\n",
    "    unique = []  # List to store the quadruples\n",
    "    # Iterate through all possible quadruples in the list\n",
    "    for i in range(len(tab)):\n",
    "        for j in range(i + 1, len(tab)):\n",
    "            for k in range(j + 1, len(tab)):\n",
    "                for t in range(k + 1, len(tab)):\n",
    "                    # Check if the sum of the four numbers equals the target\n",
    "                    if tab[i] + tab[j] + tab[k] + tab[t] == target:\n",
    "                        unique.append([tab[i], tab[j], tab[k], tab[t]])  # Add the quadruple to the result list\n",
    "    return unique\n",
    "# Implemetation\n",
    "\n",
    "quadri([1,2,4,5,6,7,8,12,3,45],12) "
   ]
  },
  {
   "cell_type": "code",
   "execution_count": null,
   "id": "e5872566-ce91-4a67-8dbd-24c2718fae62",
   "metadata": {},
   "outputs": [],
   "source": []
  },
  {
   "cell_type": "code",
   "execution_count": 204,
   "id": "a2c228aa-a6ad-4a22-8fbe-ab71684cb845",
   "metadata": {},
   "outputs": [],
   "source": [
    "#Task 5"
   ]
  },
  {
   "cell_type": "code",
   "execution_count": 205,
   "id": "4d977e42-b714-44fb-847a-fddf9891b2e7",
   "metadata": {},
   "outputs": [
    {
     "data": {
      "text/plain": [
       "[[1, 6], [8, 10], [15, 20], [17, 20]]"
      ]
     },
     "execution_count": 205,
     "metadata": {},
     "output_type": "execute_result"
    }
   ],
   "source": [
    "\"\"\"\n",
    "This function merges overlapping intervals in a given list of intervals.\n",
    "It sorts the intervals and then merges any overlapping ones.\n",
    "\n",
    "Parameters:\n",
    "- interval (list): A list of intervals, where each interval is a list [start, end].\n",
    "\n",
    "Returns:\n",
    "- list: A list of merged intervals, with no overlaps.\n",
    "\"\"\"\n",
    "\n",
    "def merge_intervals(interval):\n",
    "    over = []  # List to store the merged intervals\n",
    "    interval.sort()  # Sort intervals by the starting point (ascending order)\n",
    "\n",
    "    # Start with the first interval as the current interval\n",
    "    current = interval[0]\n",
    "\n",
    "    # Iterate through the sorted intervals\n",
    "    for i in range(1, len(interval)):\n",
    "        # Check if there is an overlap between the current interval and the next one\n",
    "        if current[1] >= interval[i][0]:  # There is an overlap\n",
    "            # Merge the intervals by taking the start of 'current' and the max of the end points\n",
    "            current = [current[0], max(current[1], interval[i][1])]\n",
    "        else:\n",
    "            # If no overlap, add the 'current' interval to 'over' and move to the next one\n",
    "            over.append(current)\n",
    "            current = interval[i]  # Update 'current' with the next interval\n",
    "\n",
    "    # Add the last merged interval (or non-overlapping interval)\n",
    "    over.append(current)\n",
    "    \n",
    "    return over\n",
    "# Implementation\n",
    "interval = [[1, 3], [2, 6], [8, 10], [15, 18], [17, 20]]\n",
    "Merge_interval(interval)\n"
   ]
  },
  {
   "cell_type": "code",
   "execution_count": null,
   "id": "12616b52-e970-46a6-9e76-0a6e6c7c6c1d",
   "metadata": {},
   "outputs": [],
   "source": []
  },
  {
   "cell_type": "code",
   "execution_count": 206,
   "id": "45b14b67-db40-4948-ba41-130c3bd0655c",
   "metadata": {},
   "outputs": [],
   "source": [
    "# Task 6"
   ]
  },
  {
   "cell_type": "code",
   "execution_count": 207,
   "id": "4e430c2f-a2d8-40d4-b704-a0d9a4fe87e4",
   "metadata": {},
   "outputs": [
    {
     "data": {
      "text/plain": [
       "'axempl'"
      ]
     },
     "execution_count": 207,
     "metadata": {},
     "output_type": "execute_result"
    }
   ],
   "source": [
    "from collections import Counter\n",
    "\n",
    "\"\"\"\n",
    "This function sorts the characters of a string based on their frequency in the string. \n",
    "Characters with higher frequency will appear first.\n",
    "\n",
    "Parameters:\n",
    "- word (str): The input string to be sorted.\n",
    "\n",
    "Returns:\n",
    "- str: A new string where characters are arranged based on their frequency.\n",
    "\"\"\"\n",
    "\n",
    "def sorted_string(word):\n",
    "    new_word = \"\"  # To store the sorted string\n",
    "    freq = Counter(word)  # Create a Counter object that counts the occurrences of each character\n",
    "\n",
    "    # Iterate through the characters sorted by their frequency\n",
    "    for char in freq:\n",
    "        new_word += char * freq[char]  # Append the character multiplied by its frequency\n",
    "\n",
    "    return new_word\n",
    "#Implementation\n",
    "\n",
    "s = \"aaaxaempxle\"\n",
    "Sorted_string(s)\n",
    "\n"
   ]
  },
  {
   "cell_type": "code",
   "execution_count": null,
   "id": "cba666be-57df-47a3-bdae-af964ea0cc1c",
   "metadata": {},
   "outputs": [],
   "source": []
  },
  {
   "cell_type": "code",
   "execution_count": 208,
   "id": "71b8127c-3011-41f0-bfa0-7133b5ab82e7",
   "metadata": {},
   "outputs": [],
   "source": [
    "# Task 7"
   ]
  },
  {
   "cell_type": "code",
   "execution_count": 209,
   "id": "516b443e-9863-4f19-9452-fd114bfd2d22",
   "metadata": {},
   "outputs": [
    {
     "name": "stdout",
     "output_type": "stream",
     "text": [
      "[[1], [1, 2], [1, 2, 3], [1, 2, 3, 4], [2], [2, 3], [2, 3, 4], [3], [3, 4], [4]]\n"
     ]
    }
   ],
   "source": [
    "\"\"\"\n",
    "This function returns all possible subsets of a given list of unique integers.\n",
    "The solution set must not contain duplicate subsets.\n",
    "\n",
    "Parameters:\n",
    "- tab (list): A list of unique integers.\n",
    "\n",
    "Returns:\n",
    "- list: A list of subsets, each of which is a list of integers.\n",
    "\"\"\"\n",
    "\n",
    "def subsets(tab):\n",
    "    subarrays = []  # List to store the subsets\n",
    "    n = len(tab)  # Length of the input list\n",
    "\n",
    "    # Generate all possible subsets using combinations of elements\n",
    "    for i in range(n + 1):  # For each possible subset size (from 0 to n)\n",
    "        for j in range(i + 1, n + 1):  \n",
    "            subarray = tab[i:j]  # Create a subarray (subset)\n",
    "            if subarray not in subarrays:  # Avoid duplicate subsets\n",
    "                subarrays.append(subarray)  # Add the subset to the list\n",
    "\n",
    "    return subarrays\n",
    "#Implementation\n",
    "\n",
    "arr = [1, 2, 3, 4]\n",
    "random_subarrays = subsets(arr)\n",
    "print(random_subarrays)"
   ]
  },
  {
   "cell_type": "code",
   "execution_count": null,
   "id": "a79fce52-6c0d-4fc3-ac1e-b5ac11620788",
   "metadata": {},
   "outputs": [],
   "source": []
  },
  {
   "cell_type": "code",
   "execution_count": 210,
   "id": "42def367-264b-4830-a87e-18d996616107",
   "metadata": {},
   "outputs": [],
   "source": [
    "# Task 8"
   ]
  },
  {
   "cell_type": "code",
   "execution_count": 211,
   "id": "10e23500-2591-4b5f-b81a-d27d9188cada",
   "metadata": {},
   "outputs": [
    {
     "data": {
      "text/plain": [
       "['((()))', '(()())', '(())()', '()(())', '()()()']"
      ]
     },
     "execution_count": 211,
     "metadata": {},
     "output_type": "execute_result"
    }
   ],
   "source": [
    "\"\"\"\n",
    "This function generates all combinations of well-formed parentheses for a given number of pairs.\n",
    "\n",
    "A well-formed parentheses string is one where the parentheses are correctly paired and nested.\n",
    "\n",
    "Parameters:\n",
    "- n (int): The number of pairs of parentheses.\n",
    "\n",
    "Returns:\n",
    "- list: A list containing all valid combinations of parentheses.\n",
    "\"\"\"\n",
    "\n",
    "def generateParenthesis(n):\n",
    "    result = []  # List to store the valid combinations of parentheses\n",
    "\n",
    "    def backtrack(current_string, open_count, close_count):\n",
    "        # If the current string has reached the maximum length, add it to the result\n",
    "        if len(current_string) == 2 * n:\n",
    "            result.append(current_string)\n",
    "            return\n",
    "        # Add an opening parenthesis if we can still add more\n",
    "        if open_count < n:\n",
    "            backtrack(current_string + '(', open_count + 1, close_count)\n",
    "        # Add a closing parenthesis if it will not exceed the number of opening parentheses\n",
    "        if close_count < open_count:\n",
    "            backtrack(current_string + ')', open_count, close_count + 1)\n",
    "\n",
    "    # Start the backtracking process with an empty string and 0 counts for open and close parentheses\n",
    "    backtrack('', 0, 0)\n",
    "\n",
    "    return result\n",
    "#Implementation\n",
    "generateParenthesis(3)\n"
   ]
  },
  {
   "cell_type": "code",
   "execution_count": null,
   "id": "f443e0c4-8a43-4eff-8810-8855ae37d496",
   "metadata": {},
   "outputs": [],
   "source": []
  },
  {
   "cell_type": "code",
   "execution_count": 212,
   "id": "c61c5a5c-7056-4230-9884-dffb42165221",
   "metadata": {},
   "outputs": [],
   "source": [
    "#Task 9"
   ]
  },
  {
   "cell_type": "code",
   "execution_count": 213,
   "id": "97f367c0-fc35-4cbb-9651-bd733364ac70",
   "metadata": {},
   "outputs": [
    {
     "data": {
      "text/plain": [
       "[1, 2, 3, 6, 9, 8, 7, 4, 5]"
      ]
     },
     "execution_count": 213,
     "metadata": {},
     "output_type": "execute_result"
    }
   ],
   "source": [
    "\"\"\"\n",
    "This function takes a matrix and returns its elements in spiral order.\n",
    "\n",
    "The spiral order involves traversing the matrix layer by layer, starting from the outermost layer and moving inward.\n",
    "\n",
    "Parameters:\n",
    "- matrix (list of lists): A 2D list representing the matrix.\n",
    "\n",
    "Returns:\n",
    "- list: A list of elements of the matrix in spiral order.\n",
    "\"\"\"\n",
    "\n",
    "def spiral_order(matrix):\n",
    "    spiral = []  # List to store the elements in spiral order\n",
    "\n",
    "    # Variables to define the boundaries of the matrix\n",
    "    top, bottom = 0, len(matrix) - 1  # Row boundaries\n",
    "    left, right = 0, len(matrix[0]) - 1  # Column boundaries\n",
    "\n",
    "    # Loop until all layers of the matrix are traversed\n",
    "    while top <= bottom and left <= right:\n",
    "        # Traverse the top row\n",
    "        for i in range(left, right + 1):\n",
    "            spiral.append(matrix[top][i])\n",
    "        top += 1  # Move the top boundary down\n",
    "\n",
    "        # Traverse the right column\n",
    "        for i in range(top, bottom + 1):\n",
    "            spiral.append(matrix[i][right])\n",
    "        right -= 1  # Move the right boundary left\n",
    "\n",
    "        if top <= bottom:\n",
    "            # Traverse the bottom row\n",
    "            for i in range(right, left - 1, -1):\n",
    "                spiral.append(matrix[bottom][i])\n",
    "            bottom -= 1  # Move the bottom boundary up\n",
    "\n",
    "        if left <= right:\n",
    "            # Traverse the left column\n",
    "            for i in range(bottom, top - 1, -1):\n",
    "                spiral.append(matrix[i][left])\n",
    "            left += 1  # Move the left boundary right\n",
    "\n",
    "    return spiral\n",
    "# Implementation\n",
    "\n",
    "matrix=[[1,2,3],[4,5,6],[7,8,9]]\n",
    "Spiral_order(matrix)"
   ]
  },
  {
   "cell_type": "code",
   "execution_count": null,
   "id": "613a8eed-11af-4659-8389-eb9b39cf91bb",
   "metadata": {},
   "outputs": [],
   "source": []
  },
  {
   "cell_type": "code",
   "execution_count": 214,
   "id": "b881eb4b-5428-4835-83de-5b7f6ac56ca5",
   "metadata": {},
   "outputs": [],
   "source": [
    "# Task 10"
   ]
  },
  {
   "cell_type": "code",
   "execution_count": 216,
   "id": "993c46ef-02b6-43ff-976a-fbeb25ccd6cc",
   "metadata": {},
   "outputs": [
    {
     "name": "stdout",
     "output_type": "stream",
     "text": [
      "True\n"
     ]
    }
   ],
   "source": [
    "import itertools\n",
    "\n",
    "\"\"\"\n",
    "This function checks if any permutation of a given string `s` is a substring of another string `s1`.\n",
    "\n",
    "Parameters:\n",
    "- s (str): The string for which permutations are generated.\n",
    "- s1 (str): The string in which the permutations are checked as substrings.\n",
    "\n",
    "Returns:\n",
    "- bool: True if any permutation of `s` exists in `s1`, otherwise False.\n",
    "\"\"\"\n",
    "\n",
    "def get_permutations(s, s1):\n",
    "    # Use itertools.permutations to generate all permutations of the string `s`\n",
    "    perms = itertools.permutations(s)\n",
    "\n",
    "    # Check if any of the permutations is a substring of `s1`\n",
    "    for p in perms:\n",
    "        if ''.join(p) in s1:  # Convert tuple to string and check for substring\n",
    "            return True\n",
    "    \n",
    "    # Return False if no permutation is found in `s1`\n",
    "    return False\n",
    "\n",
    "# Example usage\n",
    "s = \"abc\"\n",
    "s1 = \"abcdeeb\"\n",
    "print(get_permutations(s, s1))  \n"
   ]
  },
  {
   "cell_type": "code",
   "execution_count": 217,
   "id": "d15fec63-0c3e-406f-a577-11cc73a3ea82",
   "metadata": {},
   "outputs": [],
   "source": [
    "# Task 11"
   ]
  },
  {
   "cell_type": "code",
   "execution_count": 218,
   "id": "443863a4-c619-438a-a577-79a9e5dd916a",
   "metadata": {},
   "outputs": [
    {
     "name": "stdout",
     "output_type": "stream",
     "text": [
      "BANC\n"
     ]
    }
   ],
   "source": [
    "from collections import Counter\n",
    "\n",
    "\"\"\"\n",
    "This function finds the minimum window substring in `s` that contains all characters of `t` \n",
    "(including duplicates). If no such substring exists, it returns an empty string.\n",
    "\n",
    "Parameters:\n",
    "- s (str): The string in which to find the window.\n",
    "- t (str): The string containing the characters to be included in the window.\n",
    "\n",
    "Returns:\n",
    "- str: The smallest window in `s` that contains all characters of `t`.\n",
    "\"\"\"\n",
    "\n",
    "def min_window(s, t):\n",
    "    # Count the occurrences of each character in `t`\n",
    "    t_count = Counter(t)\n",
    "    # Initialize variables for the sliding window and results\n",
    "    left, right = 0, 0  # Window pointers\n",
    "    required = len(t_count)  # Number of unique characters required from `t`\n",
    "    formed = 0  # Number of characters in the window meeting the required count\n",
    "    window_count = Counter()  # Count of characters in the current window\n",
    "    ans = float(\"inf\"), None, None  # (window length, left pointer, right pointer)\n",
    "\n",
    "    # Expand the window by moving the right pointer\n",
    "    while right < len(s):\n",
    "        # Add the current character to the window\n",
    "        window_count[s[right]] += 1\n",
    "\n",
    "        # Check if the current character satisfies the required frequency\n",
    "        if s[right] in t_count and window_count[s[right]] == t_count[s[right]]:\n",
    "            formed += 1\n",
    "\n",
    "        # Try to shrink the window from the left while maintaining the condition\n",
    "        while left <= right and formed == required:\n",
    "            char = s[left]\n",
    "\n",
    "            # Update the result if the current window is smaller\n",
    "            if right - left + 1 < ans[0]:\n",
    "                ans = (right - left + 1, left, right)\n",
    "\n",
    "            # Shrink the window from the left\n",
    "            window_count[char] -= 1\n",
    "            if char in t_count and window_count[char] < t_count[char]:\n",
    "                formed -= 1\n",
    "            left += 1\n",
    "\n",
    "        # Expand the window by moving the right pointer\n",
    "        right += 1\n",
    "\n",
    "    # Return the smallest window if found, otherwise return an empty string\n",
    "    return \"\" if ans[0] == float(\"inf\") else s[ans[1]: ans[2] + 1]\n",
    "\n",
    "# Example usage\n",
    "s = \"ADOBECODEBANC\"\n",
    "t = \"ABC\"\n",
    "result = min_window(s, t)\n",
    "print(result)  \n"
   ]
  },
  {
   "cell_type": "code",
   "execution_count": 219,
   "id": "631fcb28-483f-41ca-826d-ce3191acd0a0",
   "metadata": {},
   "outputs": [],
   "source": [
    "# Task 12"
   ]
  },
  {
   "cell_type": "code",
   "execution_count": 220,
   "id": "2352176a-3a1b-43e0-90c2-00d8d0e6d836",
   "metadata": {},
   "outputs": [
    {
     "name": "stdout",
     "output_type": "stream",
     "text": [
      "The largest rectangle area is 19 square units.\n"
     ]
    }
   ],
   "source": [
    "\"\"\"\n",
    "This function calculates the area of the largest rectangle in a histogram,\n",
    "given the heights of the bars.\n",
    "\n",
    "Parameters:\n",
    "- heights (list): A list of integers representing the heights of histogram bars.\n",
    "\n",
    "Returns:\n",
    "- int: The area of the largest rectangle that can be formed in the histogram.\n",
    "\"\"\"\n",
    "\n",
    "def largest_area(heights):\n",
    "    # Add a sentinel value (0) at the end to flush out remaining heights in the stack\n",
    "    heights.append(0)\n",
    "    stack = []  # Stack to store indices of histogram bars\n",
    "    max_area = 0  # Variable to store the maximum area found\n",
    "\n",
    "    for i, h in enumerate(heights):\n",
    "        # Maintain a non-decreasing order in the stack\n",
    "        while stack and heights[stack[-1]] > h:\n",
    "            # Pop the top of the stack\n",
    "            height = heights[stack.pop()]\n",
    "            # Calculate the width\n",
    "            width = i if not stack else i - stack[-1] - 1\n",
    "            # Update the maximum area\n",
    "            max_area = max(max_area, height * width)\n",
    "        # Push the current index to the stack\n",
    "        stack.append(i)\n",
    "\n",
    "    # Remove the sentinel value\n",
    "    heights.pop()\n",
    "    return max_area\n",
    "\n",
    "# Example usage\n",
    "heights = [1, 3, 4, 18, 2, 19]\n",
    "area = largest_area(heights)\n",
    "print(f\"The largest rectangle area is {area} square units.\")\n"
   ]
  },
  {
   "cell_type": "code",
   "execution_count": 221,
   "id": "348e9794-e3e5-488e-9609-aafeb1c4c85b",
   "metadata": {},
   "outputs": [],
   "source": [
    "# Task 13"
   ]
  },
  {
   "cell_type": "code",
   "execution_count": 222,
   "id": "82268314-09b1-4823-9349-df7bc9c3576c",
   "metadata": {},
   "outputs": [
    {
     "name": "stdout",
     "output_type": "stream",
     "text": [
      "1\n",
      "1\n",
      "1\n"
     ]
    }
   ],
   "source": [
    "class MinStack:\n",
    "    \"\"\"\n",
    "    A class representing a stack that supports retrieving the minimum element in constant time.\n",
    "    \"\"\"\n",
    "    def __init__(self):\n",
    "        \"\"\"\n",
    "        Initializes an empty stack and an auxiliary stack to track the minimum elements.\n",
    "        \"\"\"\n",
    "        self.stack = []  # Main stack to store elements\n",
    "        self.min_stack = []  # Auxiliary stack to track the minimum elements\n",
    "\n",
    "    def push(self, val):\n",
    "        \"\"\"\n",
    "        Adds an element to the stack and updates the auxiliary stack if necessary.\n",
    "        \n",
    "        Args:\n",
    "        val (int): The value to be added to the stack.\n",
    "        \"\"\"\n",
    "        self.stack.append(val)  # Push the value onto the main stack\n",
    "        # Update the auxiliary stack if it's empty or the new value is <= the current minimum\n",
    "        if not self.min_stack or val <= self.min_stack[-1]:\n",
    "            self.min_stack.append(val)\n",
    "\n",
    "    def pop(self):\n",
    "        \"\"\"\n",
    "        Removes and returns the top element of the stack. Updates the auxiliary stack if necessary.\n",
    "        \n",
    "        Returns:\n",
    "        int: The top element of the stack.\n",
    "        \"\"\"\n",
    "        if self.stack:\n",
    "            val = self.stack.pop()  # Remove the top element from the main stack\n",
    "            # If the removed element is the current minimum, update the auxiliary stack\n",
    "            if val == self.min_stack[-1]:\n",
    "                self.min_stack.pop()\n",
    "            return val\n",
    "\n",
    "    def top(self):\n",
    "        \"\"\"\n",
    "        Returns the top element of the stack without removing it.\n",
    "        \n",
    "        Returns:\n",
    "        int: The top element of the stack.\n",
    "        \"\"\"\n",
    "        if self.stack:\n",
    "            return self.stack[-1]  # Return the top element of the main stack\n",
    "\n",
    "    def getMin(self):\n",
    "        \"\"\"\n",
    "        Returns the minimum element in the stack in constant time.\n",
    "        \n",
    "        Returns:\n",
    "        int: The minimum element in the stack.\n",
    "        \"\"\"\n",
    "        if self.min_stack:\n",
    "            return self.min_stack[-1]  # Return the top element of the auxiliary stack\n",
    "\n",
    "# Example Usage:\n",
    "\n",
    "# Create a MinStack instance\n",
    "min_stack = MinStack()\n",
    "\n",
    "# Push elements onto the stack\n",
    "min_stack.push(3)\n",
    "min_stack.push(1)\n",
    "min_stack.push(2)\n",
    "\n",
    "# Get the current minimum element\n",
    "print(min_stack.getMin())  # Outputs: 1\n",
    "\n",
    "# Pop the top element from the stack\n",
    "min_stack.pop()\n",
    "\n",
    "# Get the current minimum after popping\n",
    "print(min_stack.getMin())  # Outputs: 1 (1 is still the minimum)\n",
    "\n",
    "# Get the current top element\n",
    "print(min_stack.top())  # Outputs: 1 (1 is now the top element)\n"
   ]
  },
  {
   "cell_type": "code",
   "execution_count": 223,
   "id": "eb011b11-b82b-4559-a392-9238329c4412",
   "metadata": {},
   "outputs": [],
   "source": [
    "# Task 14"
   ]
  },
  {
   "cell_type": "code",
   "execution_count": 229,
   "id": "69e1e5a0-50d9-4002-9474-ba7e6b6c4e3a",
   "metadata": {},
   "outputs": [
    {
     "name": "stdout",
     "output_type": "stream",
     "text": [
      "The largest product among subarrays is 120 from the subarray [2, 3, 4, 5]\n"
     ]
    }
   ],
   "source": [
    "import math as m\n",
    "\n",
    "def largest_product(tab):\n",
    "    \"\"\"\n",
    "    Finds the subarray with the largest product in the given array and returns the product\n",
    "    along with the corresponding subarray.\n",
    "    \n",
    "    Args:\n",
    "    tab (list): A list of integers.\n",
    "    \n",
    "    Returns:\n",
    "    tuple: A tuple containing the largest product and the corresponding subarray.\n",
    "    \"\"\"\n",
    "    subarrays = []  # List to store all possible subarrays\n",
    "    product_set = []  # List to store the product of each subarray\n",
    "    n = len(tab)\n",
    "    \n",
    "    # Generate all possible subarrays\n",
    "    for i in range(n):\n",
    "        for j in range(i + 1, n + 1):\n",
    "            subarray = tab[i:j]  # Create a subarray from index i to j-1\n",
    "            if subarray not in subarrays:  # Avoid duplicates\n",
    "                subarrays.append(subarray)\n",
    "                \n",
    "    #  Remove the original list from the subarrays\n",
    "    subarrays.remove(tab)\n",
    "   \n",
    "    # Compute the product of elements in each subarray\n",
    "    for elt in subarrays:\n",
    "        product_set.append(m.prod(elt))  # Compute the product of elements in the subarray\n",
    "    \n",
    "    # Find the maximum product and the corresponding subarray\n",
    "    max_value = max(product_set)  # The maximum product\n",
    "    index_max = product_set.index(max_value)  # Index of the subarray with the maximum product\n",
    "    \n",
    "    return max_value, subarrays[index_max]\n",
    "\n",
    "# Implementation\n",
    "array = [1, 2, 3, 4, 5]\n",
    "result = largest_product(array)\n",
    "print(f\"The largest product among subarrays is {result[0]} from the subarray {result[1]}\")\n"
   ]
  },
  {
   "cell_type": "code",
   "execution_count": 230,
   "id": "e315abcb-b8e0-49a9-b20b-ffa231c50f6e",
   "metadata": {},
   "outputs": [],
   "source": [
    "# Task 15"
   ]
  },
  {
   "cell_type": "code",
   "execution_count": 236,
   "id": "8eea43c8-c7cb-4d36-adb5-da2d789a323e",
   "metadata": {},
   "outputs": [
    {
     "name": "stdout",
     "output_type": "stream",
     "text": [
      "(3, 'ace')\n"
     ]
    }
   ],
   "source": [
    "def longest_common_subsequence(text1, text2):\n",
    "    \"\"\"\n",
    "    Finds the length of the longest common subsequence (LCS) and the subsequence itself\n",
    "    between two given strings.\n",
    "\n",
    "    Args:\n",
    "        text1 (str): The first string.\n",
    "        text2 (str): The second string.\n",
    "\n",
    "    Returns:\n",
    "        tuple: A tuple containing:\n",
    "            - int: The length of the LCS.\n",
    "            - str: The LCS as a string.\n",
    "    \"\"\"\n",
    "    n1 = len(text1)\n",
    "    n2 = len(text2)\n",
    "\n",
    "    # Initialize the dynamic programming (DP) table with zeros\n",
    "    dp = [[0] * (n2 + 1) for _ in range(n1 + 1)]\n",
    "\n",
    "    # Fill the DP table by comparing characters of text1 and text2\n",
    "    for i in range(1, n1 + 1):\n",
    "        for j in range(1, n2 + 1):\n",
    "            if text1[i - 1] == text2[j - 1]:\n",
    "                # If characters match, increment the diagonal value\n",
    "                dp[i][j] = dp[i - 1][j - 1] + 1\n",
    "            else:\n",
    "                # Otherwise, take the maximum value from adjacent positions\n",
    "                dp[i][j] = max(dp[i - 1][j], dp[i][j - 1])\n",
    "\n",
    "    # Reconstruct the LCS by tracing back from the bottom-right of the DP table\n",
    "    i, j = n1, n2\n",
    "    lcs = []\n",
    "\n",
    "    while i > 0 and j > 0:\n",
    "        if text1[i - 1] == text2[j - 1]:  # If characters match\n",
    "            lcs.append(text1[i - 1])\n",
    "            i -= 1\n",
    "            j -= 1\n",
    "        elif dp[i - 1][j] > dp[i][j - 1]:  # Move up\n",
    "            i -= 1\n",
    "        else:  # Move left\n",
    "            j -= 1\n",
    "\n",
    "    # Reverse the sequence since it's built backwards\n",
    "    lcs.reverse()\n",
    "    lcs_str = ''.join(lcs)\n",
    "\n",
    "    # Return the length of the LCS and the LCS as a string\n",
    "    return dp[n1][n2], lcs_str\n",
    "\n",
    "\n",
    "# Implementation\n",
    "\n",
    "text1 = \"abcde\"\n",
    "text2 = \"ace\"\n",
    "print(longest_common_subsequence(text1, text2))\n"
   ]
  },
  {
   "cell_type": "code",
   "execution_count": null,
   "id": "d20a8814-db90-4a6a-86ec-c59a8d9687ff",
   "metadata": {},
   "outputs": [],
   "source": []
  },
  {
   "cell_type": "code",
   "execution_count": 232,
   "id": "cf3dbf46-b41f-4832-a6a4-7046f9d15c45",
   "metadata": {},
   "outputs": [],
   "source": [
    "# Task 16"
   ]
  },
  {
   "cell_type": "code",
   "execution_count": 235,
   "id": "fda75bb4-acd1-4f3c-a986-3db4109061da",
   "metadata": {},
   "outputs": [
    {
     "name": "stdout",
     "output_type": "stream",
     "text": [
      "[['eat', 'tea', 'ate'], ['tan', 'nat'], ['bat']]\n"
     ]
    }
   ],
   "source": [
    "def group_anagrams(strs):\n",
    "    \"\"\"\n",
    "    Groups strings that are anagrams into a list.\n",
    "\n",
    "    Args:\n",
    "        strs (list): List of strings.\n",
    "\n",
    "    Returns:\n",
    "        list: List of groups of strings, where each group contains anagrams.\n",
    "    \"\"\"\n",
    "    # Dictionary to group anagrams\n",
    "    anagrams = {}\n",
    "\n",
    "    for word in strs:\n",
    "        # Sort the letters of the word to get a unique key for each group of anagrams\n",
    "        key = ''.join(sorted(word))\n",
    "        \n",
    "        # Add the word to the list corresponding to this key\n",
    "        if key not in anagrams:\n",
    "            anagrams[key] = []  # Create a new list if the key doesn't exist yet\n",
    "        anagrams[key].append(word)\n",
    "        \n",
    "    # Convert the dictionary values to a list of lists\n",
    "    grouped_anagrams = [group for group in anagrams.values()]\n",
    "    \n",
    "    return grouped_anagrams\n",
    "\n",
    "# Implementation\n",
    "strs = [\"eat\", \"tea\", \"tan\", \"ate\", \"nat\", \"bat\"]\n",
    "print(group_anagrams(strs))\n"
   ]
  },
  {
   "cell_type": "code",
   "execution_count": 237,
   "id": "2ff25ceb-b62d-4c12-b561-f3e754d21793",
   "metadata": {},
   "outputs": [],
   "source": [
    "#Task 17"
   ]
  },
  {
   "cell_type": "code",
   "execution_count": 238,
   "id": "86187781-d2bf-4ab0-aaf8-c8b0762594b8",
   "metadata": {},
   "outputs": [
    {
     "name": "stdout",
     "output_type": "stream",
     "text": [
      "The amount of trapped water is 6\n"
     ]
    }
   ],
   "source": [
    "def calculate_trapped_water(heights):\n",
    "    \"\"\"\n",
    "    Calculates the amount of water that can be trapped between bars in a height map.\n",
    "\n",
    "    The principle is based on the idea that the water trapped above a bar depends on the maximum\n",
    "    height of the bars to its left and right. If a bar is shorter than these two heights, water can\n",
    "    be trapped above it.\n",
    "\n",
    "    Args:\n",
    "        heights (list): A list of integers representing the heights of the bars.\n",
    "\n",
    "    Returns:\n",
    "        int: The total amount of trapped water.\n",
    "    \"\"\"\n",
    "    \n",
    "    # Check if the list is empty or too small to trap any water\n",
    "    if not heights or len(heights) < 3:\n",
    "        return 0\n",
    "    \n",
    "    n = len(heights)\n",
    "    \n",
    "    # Initialize arrays for the maximum heights to the left and right\n",
    "    left_max = [0] * n\n",
    "    right_max = [0] * n\n",
    "    \n",
    "    # Fill the left_max array (maximum height to the left of each bar)\n",
    "    left_max[0] = heights[0]\n",
    "    for i in range(1, n):\n",
    "        left_max[i] = max(left_max[i - 1], heights[i])\n",
    "    \n",
    "    # Fill the right_max array (maximum height to the right of each bar)\n",
    "    right_max[n - 1] = heights[n - 1]\n",
    "    for i in range(n - 2, -1, -1):\n",
    "        right_max[i] = max(right_max[i + 1], heights[i])\n",
    "    \n",
    "    # Calculate the trapped water\n",
    "    trapped_water = 0\n",
    "    for i in range(n):\n",
    "        # The water trapped at position i depends on the minimum of the left and right max heights\n",
    "        trapped_water += max(0, min(left_max[i], right_max[i]) - heights[i])\n",
    "    \n",
    "    return trapped_water\n",
    "\n",
    "# Implementation\n",
    "heights = [0,1,0,2,1,0,1,3,2,1,2,1]\n",
    "print(f\"The amount of trapped water is {calculate_trapped_water(heights)}\")\n"
   ]
  },
  {
   "cell_type": "code",
   "execution_count": 239,
   "id": "0fe6ec16-31d1-42d5-9b8b-19e4c4f295bb",
   "metadata": {},
   "outputs": [],
   "source": [
    "# Task 18"
   ]
  },
  {
   "cell_type": "code",
   "execution_count": 245,
   "id": "afe4b637-53cf-4958-b56b-df5fec261b07",
   "metadata": {},
   "outputs": [
    {
     "name": "stdout",
     "output_type": "stream",
     "text": [
      "The smallest missing integer is 2\n"
     ]
    }
   ],
   "source": [
    "def first_missing_positive(nums):\n",
    "    \"\"\"\n",
    "    Finds the smallest missing positive integer in an unsorted integer array.\n",
    "\n",
    "    The idea is to rearrange the array such that each element is placed at the index\n",
    "    corresponding to its value. For example, the element 1 should be at index 0, element 2 at index 1, etc.\n",
    "    Then, we iterate through the array to find the first index where the value doesn't match index + 1,\n",
    "    which gives the smallest missing positive integer.\n",
    "\n",
    "    Args:\n",
    "        nums (list[int]): A list of integers.\n",
    "\n",
    "    Returns:\n",
    "        int: The smallest missing positive integer.\n",
    "    \"\"\"\n",
    "    \n",
    "    n = len(nums)\n",
    "    \n",
    "    # Move the elements in the range [1, n] to their correct positions\n",
    "    for i in range(n):\n",
    "        while 1 <= nums[i] <= n and nums[nums[i] - 1] != nums[i]:\n",
    "            nums[nums[i] - 1], nums[i] = nums[i], nums[nums[i] - 1]\n",
    "    \n",
    "    # After the array is rearranged, find the first element\n",
    "    # that does not satisfy the rule nums[i] = i + 1\n",
    "    for i in range(n):\n",
    "        if nums[i] != i + 1:\n",
    "            return i + 1\n",
    "    \n",
    "    # If all elements are in order, the smallest missing integer is n + 1\n",
    "    return n + 1\n",
    "\n",
    "#Implemetation\n",
    "nums = [3, 4, -1, 1]\n",
    "print(f\"The smallest missing integer is {first_missing_positive(nums)}\")\n"
   ]
  },
  {
   "cell_type": "code",
   "execution_count": 244,
   "id": "f067f1c7-6d51-4f30-ad26-479da881082c",
   "metadata": {},
   "outputs": [],
   "source": [
    "# Task 19"
   ]
  },
  {
   "cell_type": "code",
   "execution_count": 242,
   "id": "61d4e970-1afa-4db4-801b-68553ef670f5",
   "metadata": {},
   "outputs": [
    {
     "name": "stdout",
     "output_type": "stream",
     "text": [
      "The string after removing invalid parentheses is lee(t(c)o)de\n"
     ]
    }
   ],
   "source": [
    "def remove_invalid_parentheses(s):\n",
    "    \"\"\"\n",
    "    Removes the minimum number of parentheses '(' and ')' from the string s to make it valid.\n",
    "    \n",
    "    A string of parentheses is valid if every opening parenthesis '(' has a corresponding closing parenthesis ')'\n",
    "    and the parentheses are balanced. This function removes the invalid parentheses from the given string.\n",
    "    \n",
    "    Args:\n",
    "        s (str): A string containing parentheses and lowercase letters.\n",
    "        \n",
    "    Returns:\n",
    "        str: A valid string after removing the invalid parentheses.\n",
    "    \"\"\"\n",
    "    \n",
    "    # Use a stack to store the indices of the opening parentheses\n",
    "    stack = []\n",
    "    # Set to mark the indices of parentheses to be removed\n",
    "    to_remove = set()\n",
    "    \n",
    "    # Traverse the string to identify invalid parentheses\n",
    "    for i, char in enumerate(s):\n",
    "        if char == '(':\n",
    "            # Add the index of the opening parenthesis to the stack\n",
    "            stack.append(i)\n",
    "        elif char == ')':\n",
    "            if stack:\n",
    "                # If the stack is not empty, there is a matching opening parenthesis\n",
    "                stack.pop()\n",
    "            else:\n",
    "                # Otherwise, the closing parenthesis is invalid, mark it for removal\n",
    "                to_remove.add(i)\n",
    "    \n",
    "    # Add the indices of unmatched opening parentheses to the set\n",
    "    to_remove.update(stack)\n",
    "    \n",
    "    # Build the final string without the invalid parentheses\n",
    "    result = []\n",
    "    for i, char in enumerate(s):\n",
    "        if i not in to_remove:\n",
    "            result.append(char)\n",
    "    \n",
    "    # Return the modified string\n",
    "    return ''.join(result)\n",
    "\n",
    "#Implementation\n",
    "s = \"lee(t(c)o)de)\"\n",
    "print(f\"The string after removing invalid parentheses is {remove_invalid_parentheses(s)}\")  # Output: \"lee(t(c)o)de\"\n"
   ]
  },
  {
   "cell_type": "code",
   "execution_count": 243,
   "id": "56d7eb07-e8bc-48bd-bc61-449ed2a9b9a3",
   "metadata": {},
   "outputs": [],
   "source": [
    "#Task 20"
   ]
  },
  {
   "cell_type": "code",
   "execution_count": 247,
   "id": "ed0190cb-3951-4c7a-bda9-42d1780c793d",
   "metadata": {},
   "outputs": [
    {
     "name": "stdout",
     "output_type": "stream",
     "text": [
      "[['a', 'a', 'b'], ['aa', 'b']]\n"
     ]
    }
   ],
   "source": [
    "def is_palindrome(s):\n",
    "    \"\"\"\n",
    "    Checks if a string is a palindrome.\n",
    "    \n",
    "    A palindrome is a string that reads the same forward and backward.\n",
    "    \n",
    "    Args:\n",
    "        s (str): The string to check.\n",
    "        \n",
    "    Returns:\n",
    "        bool: True if the string is a palindrome, otherwise False.\n",
    "    \"\"\"\n",
    "    return s == s[::-1]\n",
    "\n",
    "def partition_palindrome(s):\n",
    "    \"\"\"\n",
    "    Returns all possible partitions of the string s, where each substring is a palindrome.\n",
    "    \n",
    "    The algorithm uses recursion to generate all possible partitions, checking at each step\n",
    "    if each substring is a palindrome. If it is, the partition is added to the result list.\n",
    "    \n",
    "    Args:\n",
    "        s (str): The string to partition.\n",
    "        \n",
    "    Returns:\n",
    "        List[List[str]]: A list of lists of strings representing all possible partitions.\n",
    "    \"\"\"\n",
    "    \n",
    "    def partition_helper(s, start, current_partition, result):\n",
    "        # If we've reached the end of the string, add the current partition to the result\n",
    "        if start == len(s):\n",
    "            result.append(current_partition[:])  # Use current_partition[:] to add a copy\n",
    "            return\n",
    "        \n",
    "        # Try all substrings starting from 'start'\n",
    "        for end in range(start + 1, len(s) + 1):\n",
    "            substr = s[start:end]\n",
    "            if is_palindrome(substr):  # If the substring is a palindrome\n",
    "                current_partition.append(substr)  # Add the substring to the current partition\n",
    "                partition_helper(s, end, current_partition, result)  # Recurse for the next part\n",
    "                current_partition.pop()  # Remove the last substring to try a new partition\n",
    "    \n",
    "    result = []\n",
    "    partition_helper(s, 0, [], result)  # Call the recursive function\n",
    "    return result\n",
    "\n",
    "# Implementation\n",
    "s = \"aab\"\n",
    "print(partition_palindrome(s))  # Output: [['a', 'a', 'b'], ['aa', 'b']]\n"
   ]
  },
  {
   "cell_type": "code",
   "execution_count": null,
   "id": "40a3d20c-0f0a-4a23-b769-e9bf6e64a3ea",
   "metadata": {},
   "outputs": [],
   "source": []
  }
 ],
 "metadata": {
  "kernelspec": {
   "display_name": "Python 3 (ipykernel)",
   "language": "python",
   "name": "python3"
  },
  "language_info": {
   "codemirror_mode": {
    "name": "ipython",
    "version": 3
   },
   "file_extension": ".py",
   "mimetype": "text/x-python",
   "name": "python",
   "nbconvert_exporter": "python",
   "pygments_lexer": "ipython3",
   "version": "3.12.7"
  }
 },
 "nbformat": 4,
 "nbformat_minor": 5
}
